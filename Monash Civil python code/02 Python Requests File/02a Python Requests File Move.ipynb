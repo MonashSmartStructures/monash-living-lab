{
 "cells": [
  {
   "cell_type": "markdown",
   "id": "8124ddc1",
   "metadata": {
    "tags": [
     "parameters"
    ]
   },
   "source": [
    "# Python Requests File Move\n",
    "\n",
    "Create, Upload, Download CSV file in the Default workspace only"
   ]
  },
  {
   "cell_type": "markdown",
   "id": "77bcf884",
   "metadata": {},
   "source": [
    "## Imports\n",
    "\n",
    "Import necessary python modules."
   ]
  },
  {
   "cell_type": "code",
   "execution_count": 1,
   "id": "a0fa5017",
   "metadata": {},
   "outputs": [],
   "source": [
    "import os\n",
    "import requests\n",
    "import urllib3\n",
    "from datetime import datetime\n",
    "urllib3.disable_warnings(urllib3.exceptions.InsecureRequestWarning)"
   ]
  },
  {
   "cell_type": "markdown",
   "id": "7198464d",
   "metadata": {},
   "source": [
    "## Define Web Service Command Syntax for Requests"
   ]
  },
  {
   "cell_type": "code",
   "execution_count": 2,
   "id": "14a8e623",
   "metadata": {},
   "outputs": [],
   "source": [
    "class WebServices(object):\n",
    "\n",
    "    def __init__(self, host_url=\"\", session=None):\n",
    "        self.host_url = host_url\n",
    "        self.session = session if session != None else requests.Session()\n",
    "\n",
    "    def set_api_key(self, api_key):\n",
    "        self.headers = {'x-ni-api-key':api_key}\n",
    "        self.auth = \"\"\n",
    "        \n",
    "    def set_usr_pwd(self, username, password):\n",
    "        self.headers = \"\"\n",
    "        self.auth = (username, password)\n",
    "    \n",
    "    def post_route(self, url, post_json=\"\", post_files=\"\"):\n",
    "        print(\"POST \" + self.host_url + url)\n",
    "        response = self.session.post(self.host_url+url, json=post_json, files=post_files, verify=False, headers=self.headers, auth=self.auth)\n",
    "        print(str(response))\n",
    "        return response\n",
    "    \n",
    "    def get_route(self, url):\n",
    "        print(\"GET \" + self.host_url + url)\n",
    "        response = self.session.get(self.host_url+url, json={}, verify=False, headers=self.headers, auth=self.auth)\n",
    "        print(str(response))\n",
    "        return response\n",
    "\n",
    "    def put_route(self, url, put_json):\n",
    "        print(\"PUT \" + self.host_url + url)\n",
    "        response = self.session.put(self.host_url+url, json=put_json, verify=False, headers=self.headers, auth=self.auth)\n",
    "        print(str(response))\n",
    "        return response"
   ]
  },
  {
   "cell_type": "markdown",
   "id": "23f40352",
   "metadata": {},
   "source": [
    "## File I/O Functions"
   ]
  },
  {
   "cell_type": "code",
   "execution_count": 3,
   "id": "93f0accf",
   "metadata": {},
   "outputs": [],
   "source": [
    "def make_local_file(file_name, file_content):\n",
    "    file_path = file_name # file paths are by default relative to the running notebook file in JupyterHub\n",
    "    f = open(file_path, \"w\", encoding=\"utf-8\")\n",
    "    f.write(file_content)\n",
    "    f.close()\n",
    "    print(str('Created \"' + file_name + '\" ==> ' + file_content))\n",
    "    return file_path"
   ]
  },
  {
   "cell_type": "code",
   "execution_count": 4,
   "id": "91aa6b60",
   "metadata": {},
   "outputs": [],
   "source": [
    "def upload_file(webServices, file_path, file_name):\n",
    "    f = open(file_path, 'r')\n",
    "    file_content = f.read()\n",
    "    f.close()\n",
    "    files = {'file': (file_name, file_content)}\n",
    "    response = webServices.post_route(\"nifile/v1/service-groups/Default/upload-files\", post_files=files)\n",
    "    response_json = response.json()\n",
    "    print(str(response_json))\n",
    "    file_id = str(response_json['uri'])[-24:]\n",
    "    return file_id"
   ]
  },
  {
   "cell_type": "code",
   "execution_count": 5,
   "id": "9e6a894f",
   "metadata": {},
   "outputs": [],
   "source": [
    "def download_file(webServices, file_id):\n",
    "    response = webServices.get_route(\"nifile/v1/service-groups/Default/files/\" + file_id + \"/data?inline=false\")\n",
    "    response_body = response.content\n",
    "    file_body = str(response_body.decode()).replace(\"\\r\", \"\")\n",
    "    return file_body"
   ]
  },
  {
   "cell_type": "code",
   "execution_count": 6,
   "id": "b963dd7c",
   "metadata": {},
   "outputs": [],
   "source": [
    "def file_io(webServices): # assumes you are ONLY using the Default workspace\n",
    "    file_name = \"Example File.csv\"\n",
    "    now = datetime.today().isoformat() # \"2019-09-05T18:45:08Z\"\n",
    "    file_path = make_local_file(file_name, str(now))\n",
    "    print(file_path)\n",
    "    file_id = upload_file(webServices, file_path, file_name)\n",
    "    print(file_id)\n",
    "    file = download_file(webServices, file_id)\n",
    "    print(str(file))\n",
    "    return file_id"
   ]
  },
  {
   "cell_type": "markdown",
   "id": "1a2cba09",
   "metadata": {},
   "source": [
    "## Connect to SystemLink, Run File I/O, Close Connection"
   ]
  },
  {
   "cell_type": "code",
   "execution_count": 7,
   "id": "002e6203",
   "metadata": {},
   "outputs": [
    {
     "name": "stdout",
     "output_type": "stream",
     "text": [
      "wSo_Orl4sRY5a0n922pDjsFp6kPlKFhl2kdFFQQ5Gz\n",
      "Created \"Example File.csv\" ==> 2023-05-10T16:30:28.927747\n",
      "Example File.csv\n",
      "POST https://bradt2-lt/nifile/v1/service-groups/Default/upload-files\n",
      "<Response [201]>\n",
      "{'uri': '/nifile/v1/service-groups/Default/files/645c0cf5e49e4dd11462c2cd'}\n",
      "645c0cf5e49e4dd11462c2cd\n",
      "GET https://bradt2-lt/nifile/v1/service-groups/Default/files/645c0cf5e49e4dd11462c2cd/data?inline=false\n",
      "<Response [200]>\n",
      "2023-05-10T16:30:28.927747\n",
      "done\n"
     ]
    }
   ],
   "source": [
    "# Connection Info\n",
    "host_url = \"https://localhost:443/\"\n",
    "host_url = os.getenv(\"SYSTEMLINK_HTTP_URI\") # available only in JupyterHub on SystemLink server\n",
    "api_key = os.getenv(\"SYSTEMLINK_API_KEY\")   # available only in JupyterHub on SystemLink server\n",
    "print(str(api_key))\n",
    "\n",
    "# Return WebServices object (set host_url)\n",
    "webServices = WebServices(host_url)\n",
    "\n",
    "# Define the connection credentials using an ApiKey or username/password\n",
    "webServices.set_api_key(api_key)\n",
    "#webServices.set_usr_pwd(\"admin\", \"mypassword\")\n",
    "\n",
    "# perform tag operations\n",
    "file_io(webServices)\n",
    "print(\"done\")"
   ]
  }
 ],
 "metadata": {
  "kernelspec": {
   "display_name": "Python 3",
   "language": "python",
   "name": "python3"
  },
  "language_info": {
   "codemirror_mode": {
    "name": "ipython",
    "version": 3
   },
   "file_extension": ".py",
   "mimetype": "text/x-python",
   "name": "python",
   "nbconvert_exporter": "python",
   "pygments_lexer": "ipython3",
   "version": "3.8.5"
  }
 },
 "nbformat": 4,
 "nbformat_minor": 5
}
