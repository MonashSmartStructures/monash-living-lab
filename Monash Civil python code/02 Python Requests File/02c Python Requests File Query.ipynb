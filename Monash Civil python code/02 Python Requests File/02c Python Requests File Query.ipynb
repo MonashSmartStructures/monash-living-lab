{
 "cells": [
  {
   "cell_type": "markdown",
   "id": "7872094b",
   "metadata": {
    "tags": [
     "parameters"
    ]
   },
   "source": [
    "# Python Requests File Query\n",
    "\n",
    "Create, Upload, Query, Download CSV file in other workspaces"
   ]
  },
  {
   "cell_type": "markdown",
   "id": "0078f468",
   "metadata": {},
   "source": [
    "## Imports\n",
    "\n",
    "Import necessary python modules."
   ]
  },
  {
   "cell_type": "code",
   "execution_count": 1,
   "id": "e53503f3",
   "metadata": {},
   "outputs": [],
   "source": [
    "import os\n",
    "import requests\n",
    "import urllib3\n",
    "from datetime import datetime\n",
    "urllib3.disable_warnings(urllib3.exceptions.InsecureRequestWarning)"
   ]
  },
  {
   "cell_type": "markdown",
   "id": "cf5b0a91",
   "metadata": {},
   "source": [
    "## Define Web Service Command Syntax for Requests"
   ]
  },
  {
   "cell_type": "code",
   "execution_count": 2,
   "id": "bd35f366",
   "metadata": {},
   "outputs": [],
   "source": [
    "class WebServices(object):\n",
    "\n",
    "    def __init__(self, host_url=\"\", session=None):\n",
    "        self.host_url = host_url\n",
    "        self.session = session if session != None else requests.Session()\n",
    "\n",
    "    def set_api_key(self, api_key):\n",
    "        self.headers = {'x-ni-api-key':api_key}\n",
    "        self.auth = \"\"\n",
    "        \n",
    "    def set_usr_pwd(self, username, password):\n",
    "        self.headers = \"\"\n",
    "        self.auth = (username, password)\n",
    "    \n",
    "    def post_route(self, url, post_json=\"\", post_files=\"\"):\n",
    "        print(\"POST \" + self.host_url + url)\n",
    "        response = self.session.post(self.host_url+url, json=post_json, files=post_files, verify=False, headers=self.headers, auth=self.auth)\n",
    "        print(str(response))\n",
    "        return response\n",
    "    \n",
    "    def get_route(self, url):\n",
    "        print(\"GET \" + self.host_url + url)\n",
    "        response = self.session.get(self.host_url+url, json={}, verify=False, headers=self.headers, auth=self.auth)\n",
    "        print(str(response))\n",
    "        return response\n",
    "\n",
    "    def put_route(self, url, put_json):\n",
    "        print(\"PUT \" + self.host_url + url)\n",
    "        response = self.session.put(self.host_url+url, json=put_json, verify=False, headers=self.headers, auth=self.auth)\n",
    "        print(str(response))\n",
    "        return response"
   ]
  },
  {
   "cell_type": "markdown",
   "id": "df12adcc",
   "metadata": {},
   "source": [
    "## File I/O Functions"
   ]
  },
  {
   "cell_type": "code",
   "execution_count": 3,
   "id": "59893c77",
   "metadata": {},
   "outputs": [],
   "source": [
    "def make_local_file(now):\n",
    "    now_str = str(now)\n",
    "    file_name = \"Example File.csv\"\n",
    "    file_path = file_name # file paths are by default relative to the running notebook file in JupyterHub\n",
    "    f = open(file_path, \"w\", encoding=\"utf-8\")\n",
    "    f.write(now_str)\n",
    "    f.close()\n",
    "    print(str('Created \"' + file_name + '\" at ' + now_str))\n",
    "    return file_path, file_name"
   ]
  },
  {
   "cell_type": "code",
   "execution_count": 4,
   "id": "b030bd42",
   "metadata": {},
   "outputs": [],
   "source": [
    "def upload_file(webServices, file_path, file_name, workspace):\n",
    "    f = open(file_path, 'r')\n",
    "    file_content = f.read()\n",
    "    f.close()\n",
    "    files = {'file': (file_name, file_content)}\n",
    "    if workspace != None and workspace != \"\":\n",
    "        response = webServices.post_route(\"nifile/v1/service-groups/Default/upload-files?workspace=\" + workspace, post_files=files)\n",
    "    else: # Default workspace\n",
    "        response = webServices.post_route(\"nifile/v1/service-groups/Default/upload-files\", post_files=files)\n",
    "    response_json = response.json()\n",
    "    print(str(response_json))\n",
    "    file_id = str(response_json['uri'])[-24:]\n",
    "    return file_id"
   ]
  },
  {
   "cell_type": "code",
   "execution_count": 5,
   "id": "750657ac",
   "metadata": {},
   "outputs": [],
   "source": [
    "def query_files(webServices, file_name, file_id, workspace):\n",
    "    skip = 0\n",
    "    take = 1\n",
    "    query_json = {\"idsQuery\": {\"operation\":\"EQUAL\", \"ids\":[file_id]},\n",
    "                  \"extensionQuery\": {\"operation\":\"EQUAL\", \"value\":\"csv\"},\n",
    "                  \"sizeMaxQuery\": {\"operation\":\"LESS_THAN\", \"value\":5000},\n",
    "                  \"sizeMinQuery\": {\"operation\":\"GREATER_THAN\", \"value\":10},\n",
    "                  \"createdQuery\": {\"operation\":\"GREATER_THAN\", \"value\": \"2018-05-14T00:00:00.000Z\"},\n",
    "                  \"propertiesQuery\": [{\"key\":\"Name\", \"operation\":\"CONTAINS\", \"value\":file_name}]\n",
    "                 }\n",
    "    url = \"nifile/v1/service-groups/Default/query-files?\" + str(skip) + \"=0&take=\" + str(take)\n",
    "    if workspace != None and workspace != \"\": url = url + \"&workspace=\" + workspace\n",
    "    response = webServices.post_route(url, post_json=query_json)\n",
    "    return response.json()"
   ]
  },
  {
   "cell_type": "code",
   "execution_count": 6,
   "id": "958f6e96",
   "metadata": {},
   "outputs": [],
   "source": [
    "def file_io(webServices): # assumes you are ONLY using the Default workspace\n",
    "    workspace = None # Default workspace\n",
    "    #workspace = \"93f869bd-f4df-4fb6-84e3-0499cae06a7c\" # workspace != Default , workspace = foo\n",
    "    now = datetime.today().isoformat() # \"2019-09-05T18:45:08Z\"\n",
    "    file_path, file_name = make_local_file(now)\n",
    "    print(file_path, file_name)\n",
    "    file_id = upload_file(webServices, file_path, file_name, workspace)\n",
    "    print(file_id)\n",
    "    file = query_files(webServices, file_name, file_id, workspace)\n",
    "    print(file)\n",
    "    return file_id"
   ]
  },
  {
   "cell_type": "markdown",
   "id": "fce5ab9a",
   "metadata": {},
   "source": [
    "## Connect to SystemLink, Run File I/O, Close Connection"
   ]
  },
  {
   "cell_type": "code",
   "execution_count": 7,
   "id": "3648fa73",
   "metadata": {},
   "outputs": [
    {
     "name": "stdout",
     "output_type": "stream",
     "text": [
      "wSo_Orl4sRY5a0n922pDjsFp6kPlKFhl2kdFFQQ5Gz\n",
      "Created \"Example File.csv\" at 2023-05-10T15:56:48.527106\n",
      "Example File.csv Example File.csv\n",
      "POST https://bradt2-lt/nifile/v1/service-groups/Default/upload-files?workspace=93f869bd-f4df-4fb6-84e3-0499cae06a7c\n",
      "<Response [201]>\n",
      "{'uri': '/nifile/v1/service-groups/Default/files/645c0510e49e4dd11462c2c9'}\n",
      "645c0510e49e4dd11462c2c9\n",
      "POST https://bradt2-lt/nifile/v1/service-groups/Default/query-files?0=0&take=1&workspace=93f869bd-f4df-4fb6-84e3-0499cae06a7c\n",
      "<Response [200]>\n",
      "{'_links': {'self': {'href': '/nifile/v1/service-groups/Default/query-files'}, 'search': {'href': '/nifile/v1/service-groups/Default/files'}, 'query': {'href': '/nifile/v1/service-groups/Default/query-files'}, 'upload': {'href': '/nifile/v1/service-groups/Default/upload-files'}, 'deleteFiles': {'href': '/nifile/v1/service-groups/Default/delete-files'}}, 'availableFiles': [{'_links': {'self': {'href': '/nifile/v1/service-groups/Default/files/645c0510e49e4dd11462c2c9'}, 'data': {'href': '/nifile/v1/service-groups/Default/files/645c0510e49e4dd11462c2c9/data'}, 'updateMetadata': {'href': '/nifile/v1/service-groups/Default/files/645c0510e49e4dd11462c2c9/update-metadata'}, 'delete': {'href': '/nifile/v1/service-groups/Default/files/645c0510e49e4dd11462c2c9'}}, 'created': '2023-05-10T20:56:48.718Z', 'id': '645c0510e49e4dd11462c2c9', 'path': 'C:\\\\ProgramData\\\\National Instruments\\\\Skyline\\\\Data\\\\FileIngestion\\\\645\\\\c05\\\\10e\\\\49e\\\\4dd\\\\114\\\\62c\\\\645c0510e49e4dd11462c2c9.csv', 'properties': {'Name': 'Example File.csv'}, 'metaDataRevision': 1, 'serviceGroup': 'Default', 'size': 26, 'size64': 26, 'workspace': '93f869bd-f4df-4fb6-84e3-0499cae06a7c', 'lastUpdatedTimestamp': '2023-05-10T20:56:48.718Z'}], 'totalCount': 1}\n",
      "done\n"
     ]
    }
   ],
   "source": [
    "# Connection Info\n",
    "host_url = \"https://localhost:443/\"\n",
    "host_url = os.getenv(\"SYSTEMLINK_HTTP_URI\") # available only in JupyterHub on SystemLink server\n",
    "api_key = os.getenv(\"SYSTEMLINK_API_KEY\")   # available only in JupyterHub on SystemLink server\n",
    "print(str(api_key))\n",
    "\n",
    "# Return WebServices object (set host_url)\n",
    "webServices = WebServices(host_url)\n",
    "\n",
    "# Define the connection credentials using an ApiKey or username/password\n",
    "webServices.set_api_key(api_key)\n",
    "#webServices.set_usr_pwd(\"admin\", \"mypassword\")\n",
    "\n",
    "# perform tag operations\n",
    "file_io(webServices)\n",
    "print(\"done\")"
   ]
  }
 ],
 "metadata": {
  "kernelspec": {
   "display_name": "Python 3",
   "language": "python",
   "name": "python3"
  },
  "language_info": {
   "codemirror_mode": {
    "name": "ipython",
    "version": 3
   },
   "file_extension": ".py",
   "mimetype": "text/x-python",
   "name": "python",
   "nbconvert_exporter": "python",
   "pygments_lexer": "ipython3",
   "version": "3.8.5"
  }
 },
 "nbformat": 4,
 "nbformat_minor": 5
}
