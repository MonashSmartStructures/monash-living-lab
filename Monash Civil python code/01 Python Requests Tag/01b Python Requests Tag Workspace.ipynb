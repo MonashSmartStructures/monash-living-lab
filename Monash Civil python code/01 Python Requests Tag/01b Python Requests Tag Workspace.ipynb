{
 "cells": [
  {
   "cell_type": "markdown",
   "id": "3f528853",
   "metadata": {
    "tags": [
     "parameters"
    ]
   },
   "source": [
    "# Python Requests Tag Workspace\n",
    "\n",
    "Create, Write, Read tags in the Default or other workspace"
   ]
  },
  {
   "cell_type": "markdown",
   "id": "6ebdffab",
   "metadata": {},
   "source": [
    "## Imports\n",
    "\n",
    "Import necessary python modules."
   ]
  },
  {
   "cell_type": "code",
   "execution_count": 1,
   "id": "4b77ed9a",
   "metadata": {},
   "outputs": [],
   "source": [
    "import os\n",
    "import requests\n",
    "import urllib3\n",
    "from datetime import datetime\n",
    "urllib3.disable_warnings(urllib3.exceptions.InsecureRequestWarning)"
   ]
  },
  {
   "cell_type": "markdown",
   "id": "409837cb",
   "metadata": {},
   "source": [
    "## Define Web Service Command Syntax for Requests"
   ]
  },
  {
   "cell_type": "code",
   "execution_count": 2,
   "id": "951fb3fd",
   "metadata": {},
   "outputs": [],
   "source": [
    "class WebServices(object):\n",
    "\n",
    "    def __init__(self, host_url=\"\", session=None):\n",
    "        self.host_url = host_url\n",
    "        self.session = session if session != None else requests.Session()\n",
    "\n",
    "    def set_api_key(self, api_key):\n",
    "        self.headers = {'x-ni-api-key':api_key}\n",
    "        self.auth = \"\"\n",
    "        \n",
    "    def set_usr_pwd(self, username, password):\n",
    "        self.headers = \"\"\n",
    "        self.auth = (username, password)\n",
    "    \n",
    "    def post_route(self, url, post_json):\n",
    "        print(\"POST \" + self.host_url + url)\n",
    "        response = self.session.post(self.host_url+url, json=post_json, verify=False, headers=self.headers, auth=self.auth)\n",
    "        print(str(response))\n",
    "        return response\n",
    "    \n",
    "    def get_route(self, url):\n",
    "        print(\"GET \" + self.host_url + url)\n",
    "        response = self.session.get(self.host_url+url, json={}, verify=False, headers=self.headers, auth=self.auth)\n",
    "        print(str(response))\n",
    "        return response\n",
    "\n",
    "    def put_route(self, url, put_json):\n",
    "        print(\"PUT \" + self.host_url + url)\n",
    "        response = self.session.put(self.host_url+url, json=put_json, verify=False, headers=self.headers, auth=self.auth)\n",
    "        print(str(response))\n",
    "        return response"
   ]
  },
  {
   "cell_type": "markdown",
   "id": "c52dcde9",
   "metadata": {},
   "source": [
    "## Tag I/O Functions"
   ]
  },
  {
   "cell_type": "code",
   "execution_count": 3,
   "id": "cbff6b24",
   "metadata": {},
   "outputs": [],
   "source": [
    "def write_tag(webServices, tag_path, tag_properties, tag_value, tag_workspace):\n",
    "    tag = {'collect_aggregates': False, 'keywords': None, 'path': tag_path, 'properties': tag_properties, 'type': 'STRING', 'workspace': tag_workspace}\n",
    "    response = webServices.post_route(\"nitag/v2/tags\", tag)\n",
    "    if tag_workspace != None and tag_workspace != \"\":\n",
    "        response = webServices.put_route(\"nitag/v2/tags/\"+tag_workspace+\"/\"+tag_path+\"/values/current\", tag_value)\n",
    "    else:\n",
    "        response = webServices.put_route(\"nitag/v2/tags/\"+tag_path+\"/values/current\", tag_value)"
   ]
  },
  {
   "cell_type": "code",
   "execution_count": 4,
   "id": "9411c34e",
   "metadata": {},
   "outputs": [],
   "source": [
    "def read_tag(webServices, tag_path, tag_workspace):\n",
    "    if tag_workspace != None and tag_workspace != \"\":\n",
    "        response = webServices.get_route(\"nitag/v2/tags/\"+tag_workspace+\"/\"+tag_path+\"/values\")\n",
    "    else:\n",
    "        response = webServices.get_route(\"nitag/v2/tags/\"+tag_path+\"/values\")\n",
    "    tag = response.json()\n",
    "    return tag"
   ]
  },
  {
   "cell_type": "code",
   "execution_count": 5,
   "id": "a5656ea3",
   "metadata": {},
   "outputs": [],
   "source": [
    "def tag_io(webServices):\n",
    "    now = datetime.today().isoformat() # \"2019-09-05T18:45:08Z\"\n",
    "    tag_path = \"NI_PXIe-8133_Embedded_Controller--MAC-00-80-2F-12-7F-31.Ownership.Status\"\n",
    "    tag_properties = {\"IsConformed\": \"true\", \"Department\": \"OPS\", \"IsReleased\": \"true\"}\n",
    "    tag_value = {\"value\": {\"type\": \"STRING\", \"value\": \"OPS\"}, \"timestamp\": now}\n",
    "    tag_workspace = None # workspace = Default\n",
    "    #tag_workspace = \"93f869bd-f4df-4fb6-84e3-0499cae06a7c\" # workspace != Default\n",
    "    write_tag(webServices, tag_path, tag_properties, tag_value, tag_workspace)\n",
    "    tag = read_tag(webServices, tag_path, tag_workspace)\n",
    "    print(str(tag))"
   ]
  },
  {
   "cell_type": "markdown",
   "id": "916f0d37",
   "metadata": {},
   "source": [
    "## Connect to SystemLink, Run Tag I/O, Close Connection"
   ]
  },
  {
   "cell_type": "code",
   "execution_count": 6,
   "id": "8fd30a12",
   "metadata": {},
   "outputs": [
    {
     "name": "stdout",
     "output_type": "stream",
     "text": [
      "POST https://bradt2-lt/nitag/v2/tags\n",
      "<Response [201]>\n",
      "PUT https://bradt2-lt/nitag/v2/tags/NI_PXIe-8133_Embedded_Controller--MAC-00-80-2F-12-7F-31.Ownership.Status/values/current\n",
      "<Response [202]>\n",
      "GET https://bradt2-lt/nitag/v2/tags/NI_PXIe-8133_Embedded_Controller--MAC-00-80-2F-12-7F-31.Ownership.Status/values\n",
      "<Response [200]>\n",
      "{'current': {'timestamp': '2023-05-09T17:55:44.257948Z', 'value': {'type': 'STRING', 'value': 'OPS'}}, 'aggregates': None}\n",
      "done\n"
     ]
    }
   ],
   "source": [
    "# Connection Info\n",
    "host_url = \"https://localhost:443/\"\n",
    "host_url = os.getenv(\"SYSTEMLINK_HTTP_URI\") # available only in JupyterHub on SystemLink server\n",
    "api_key = os.getenv(\"SYSTEMLINK_API_KEY\")   # available only in JupyterHub on SystemLink server\n",
    "\n",
    "# Return WebServices object (set host_url)\n",
    "webServices = WebServices(host_url)\n",
    "\n",
    "# Define the connection credentials using an ApiKey or username/password\n",
    "webServices.set_api_key(api_key)\n",
    "#webServices.set_usr_pwd(\"admin\", \"mypassword\")\n",
    "\n",
    "# perform tag operations\n",
    "tag_io(webServices)\n",
    "print(\"done\")"
   ]
  }
 ],
 "metadata": {
  "kernelspec": {
   "display_name": "Python 3",
   "language": "python",
   "name": "python3"
  },
  "language_info": {
   "codemirror_mode": {
    "name": "ipython",
    "version": 3
   },
   "file_extension": ".py",
   "mimetype": "text/x-python",
   "name": "python",
   "nbconvert_exporter": "python",
   "pygments_lexer": "ipython3",
   "version": "3.8.5"
  }
 },
 "nbformat": 4,
 "nbformat_minor": 5
}
