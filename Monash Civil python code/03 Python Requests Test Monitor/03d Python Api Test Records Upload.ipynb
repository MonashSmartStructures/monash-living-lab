{
 "cells": [
  {
   "cell_type": "markdown",
   "id": "4ead5e9b",
   "metadata": {
    "tags": [
     "parameters"
    ]
   },
   "source": [
    "# Upload Exported Records\n",
    "\n",
    "This notebook reads the contents of an exported data set from the Test Monitor and uploads those records to another Test Monitor."
   ]
  },
  {
   "cell_type": "markdown",
   "id": "97d8fe04",
   "metadata": {},
   "source": [
    "## Import Python Modules and Script Libraries"
   ]
  },
  {
   "cell_type": "code",
   "execution_count": null,
   "id": "30416f2b",
   "metadata": {},
   "outputs": [],
   "source": [
    "import os\n",
    "import systemlink.clients.nitestmonitor as nitestmonitor\n",
    "library_folder = os.getcwd() + \"\\\\\" # Gets the folder that this *.ipynb file is in, where the pythone library files need to be also\n",
    "print(library_folder)\n",
    "exec(open(library_folder + \"parse_exported_records.py\").read())\n",
    "exec(open(library_folder + \"upload_test_records.py\").read())"
   ]
  },
  {
   "cell_type": "markdown",
   "id": "0e386187",
   "metadata": {},
   "source": [
    "## Assign Authentication Parameters"
   ]
  },
  {
   "cell_type": "code",
   "execution_count": null,
   "id": "ccca6ec0",
   "metadata": {},
   "outputs": [],
   "source": [
    "#host_url = \"test-api.lifecyclesolutions.ni.com\"\n",
    "#api_key = \"Mk9Z2kNDVwZORmS_nDT048rQ-7vaz5oCS_5p6acfR2\"\n",
    "#workspace = \"5e24401b-fdb6-4185-8364-723164504590\" # None or \"5e24401b-fdb6-4185-8364-723164504590\" #  workspaceId for \"TSE\" in SLE\n",
    "host_url = os.getenv(\"SYSTEMLINK_HTTP_URI\") \n",
    "api_key = os.getenv(\"SYSTEMLINK_API_KEY\")\n",
    "workspace = None # None or \"5e24401b-fdb6-4185-8364-723164504590\" #  workspaceId for \"TSE\" in SLE\n",
    "username = None\n",
    "password = None\n",
    "print(api_key)"
   ]
  },
  {
   "cell_type": "markdown",
   "id": "942e5481",
   "metadata": {},
   "source": [
    "## Establish SystemLink Connection and Data Set Info"
   ]
  },
  {
   "cell_type": "code",
   "execution_count": null,
   "id": "9a8abb41",
   "metadata": {},
   "outputs": [],
   "source": [
    "# Establish the connection to SystemLink in order to upload test records\n",
    "upload_test_records = UploadTestRecords(host_url, api_key, username, password)\n",
    "\n",
    "# Set the global data set loading details\n",
    "data_file_dir = library_folder\n",
    "results_sheet_name = \"TestResults\"\n",
    "steps_sheet_name = \"TestSteps\"\n",
    "shift_datetime = True # Make all data sets appear to have occurred in the last 30 days since running this script\n",
    "load_data_sets = [0] #[0, 1, 2, 3, 4, 5] # option to load a subset of the data sets 0..5"
   ]
  },
  {
   "cell_type": "markdown",
   "id": "3b00e20e",
   "metadata": {},
   "source": [
    "## Parse Data Set 0 and Upload Test Records"
   ]
  },
  {
   "cell_type": "code",
   "execution_count": null,
   "id": "c7d13e31",
   "metadata": {},
   "outputs": [],
   "source": [
    "# 3 Test Results Total\n",
    "if 0 in load_data_sets:\n",
    "    # The exported Mobile Phones Family data files have the following metadata column names\n",
    "    keywords = [\"DataSet0\"]\n",
    "    property_names = [\"DOORS_ID\", \"Jira_ID\", \"Score_Count\", \"Score_Pct\", \"Team\", \"Temp~MaxAll\", \"Temp~MeanAll\", \"Temp~MinAll\", \"Temperature\", \"Test~Procedure\", \"Voltage\"]\n",
    "    input_names = [\"Input.Team\", \"Input.Temperature\", \"Input.Voltage\"]\n",
    "    output_names = [\"Output.Score_Pct\"]\n",
    "\n",
    "    # Parse all Battery Data from CSV files into array of results and dictionary of result_steps\n",
    "    prefix = \"Data Set 0 of 5 | \"\n",
    "    file_path_Results = data_file_dir + \"0 - Exported Results.csv\"\n",
    "    file_path_Steps = data_file_dir + \"0 - Exported Steps.csv\"\n",
    "    file_converter = FileConverter(prefix, \"\", file_path_Results, file_path_Steps, workspace, keywords, property_names, input_names, output_names, shift_datetime)\n",
    "\n",
    "    # Upload/publish the results and their result_steps to the Test Monitor database, linked to the correct product, via web service API calls\n",
    "    product = nitestmonitor.ProductRequestObject(part_number=None, name=\"MobileAB\", family=\"Mobile Phones\")\n",
    "    await upload_test_records.upload(product, file_converter.results, file_converter.result_steps_dict, prefix)"
   ]
  },
  {
   "cell_type": "markdown",
   "id": "ba9130bc",
   "metadata": {},
   "source": [
    "## Parse Data Set 1 and Upload Test Records"
   ]
  },
  {
   "cell_type": "code",
   "execution_count": null,
   "id": "ac716000",
   "metadata": {},
   "outputs": [],
   "source": [
    "# 6 Test Results Total\n",
    "if 1 in load_data_sets:\n",
    "    # The exported AA Alkaline Family data files have the following metadata column names\n",
    "    keywords = [\"DataSet1\"]\n",
    "    property_names = [\"Capacity (mAh)\", \"Composition\", \"Location\", \"nitmProcessModel\", \"nitmSource\", \"nitmTestSocketCount\", \"nitmTestStandStartTime\", \"Voltage (V)\"]\n",
    "    input_names = [\"Input.Cycle\", \"Input.Initial Capacity  (mAh)\", \"Input.Voltage\"]\n",
    "    output_names = []\n",
    "    \n",
    "    # Parse the Battery Data1 Excel file into array of results and dictionary of result_steps\n",
    "    prefix = \"Data Set 1 of 5 | \"\n",
    "    file_path = data_file_dir + \"1 - Exported Battery Data1.xlsx\"\n",
    "    file_converter = FileConverter(prefix, file_path, results_sheet_name, steps_sheet_name, workspace, keywords, property_names, input_names, output_names, shift_datetime)\n",
    "    \n",
    "    # Upload/publish the results and their result_steps to the Test Monitor, linked to the correct product\n",
    "    product = nitestmonitor.ProductRequestObject(part_number=None, name=\"AA Alkaline\", family=\"Batteries\")\n",
    "    await upload_test_records.upload(product, file_converter.results, file_converter.result_steps_dict, prefix)"
   ]
  },
  {
   "cell_type": "markdown",
   "id": "4eb3a987",
   "metadata": {},
   "source": [
    "## Parse Data Set 2 and Upload Test Records"
   ]
  },
  {
   "cell_type": "code",
   "execution_count": null,
   "id": "d3e83335",
   "metadata": {},
   "outputs": [],
   "source": [
    "# 3 Results total\n",
    "if 2 in load_data_sets:\n",
    "    # The exported AA Rechargable Family data files have the following metadata column names\n",
    "    keywords = [\"DataSet2\"]\n",
    "    property_names = [\"Capacity (mAh)\", \"Composition\", \"Location\", \"nitmProcessModel\", \"nitmSource\", \"nitmTestSocketCount\", \"nitmTestStandStartTime\", \"Voltage (V)\"]\n",
    "    input_names = [\"Input.Cycle\", \"Input.Initial Capacity  (mAh)\", \"Input.Voltage\"]\n",
    "    output_names = []\n",
    "    \n",
    "    # Parse the Battery Data2 Excel file into array of results and dictionary of result_steps\n",
    "    prefix = \"Data Set 2 of 5 | \"\n",
    "    file_path = data_file_dir + \"2 - Exported Battery Data2.xlsx\"\n",
    "    file_converter = FileConverter(prefix, file_path, results_sheet_name, steps_sheet_name, workspace, keywords, property_names, input_names, output_names, shift_datetime)\n",
    "    \n",
    "    # Upload/publish the results and their result_steps to the Test Monitor, linked to the correct product\n",
    "    product = nitestmonitor.ProductRequestObject(part_number=None, name=\"AA Rechargeable\", family=\"Batteries\")\n",
    "    await upload_test_records.upload(product, file_converter.results, file_converter.result_steps_dict, prefix)"
   ]
  },
  {
   "cell_type": "markdown",
   "id": "13d936ce",
   "metadata": {},
   "source": [
    "## Parse Data Set 3 and Upload Test Records"
   ]
  },
  {
   "cell_type": "code",
   "execution_count": null,
   "id": "692ae3ad",
   "metadata": {},
   "outputs": [],
   "source": [
    "# 3 Results Total\n",
    "if 3 in load_data_sets:\n",
    "    # The exported Transmitter data files have the following metadata column names\n",
    "    keywords = [\"DataSet3\"]\n",
    "    property_names = [\"nitmProcessModel\", \"nitmSource\", \"nitmTestSocketCount\", \"nitmTestStandStartTime\"]\n",
    "    input_names = []\n",
    "    output_names = []\n",
    "    \n",
    "    # Parse the Transmitter Excel file into array of results and dictionary of result_steps\n",
    "    prefix = \"Data Set 3 of 5 | \"\n",
    "    file_path = data_file_dir + \"3 - Exported Mobile Data.xlsx\"\n",
    "    file_converter = FileConverter(prefix, file_path, results_sheet_name, steps_sheet_name, workspace, keywords, property_names, input_names, output_names, shift_datetime)\n",
    "    \n",
    "    # Upload/publish the results and their result_steps to the Test Monitor database, linked to the correct product, via web service API calls\n",
    "    product = nitestmonitor.ProductRequestObject(part_number=None, name=\"Transmitter\", family=\"RF\")\n",
    "    await upload_test_records.upload(product, file_converter.results, file_converter.result_steps_dict, prefix)"
   ]
  },
  {
   "cell_type": "markdown",
   "id": "c9637c04",
   "metadata": {},
   "source": [
    "## Parse Data Set 4 and Upload Test Records"
   ]
  },
  {
   "cell_type": "code",
   "execution_count": null,
   "id": "8f9a66ec",
   "metadata": {},
   "outputs": [],
   "source": [
    "# 313 Results Total\n",
    "if 4 in load_data_sets:\n",
    "    # The exported NI Family data files have the following metadata column names\n",
    "    keywords = [\"DataSet4\"]\n",
    "    property_names = [\"jobName\", \"location\", \"opSeq\", \"opSeqName\", \"tdms_file\", \"tdr_xml_doc_guid\", \"testDomain\", \"toolkitVersion\"]\n",
    "    input_names = []\n",
    "    output_names = [\"Output.Harmonics results~Frequency (Hz)\", \"Output.Output Power Results~Measured Output power (dBm)\", \"Output.Pass\"]\n",
    "    \n",
    "    # Parse the NI Family Excel file into array of results and dictionary of result_steps\n",
    "    prefix = \"Data Set 4 of 5 | \"\n",
    "    file_path = data_file_dir + \"4 - Exported NI 5678 Data.xlsx\"\n",
    "    file_converter = FileConverter(prefix, file_path, results_sheet_name, steps_sheet_name, workspace, keywords, property_names, input_names, output_names, shift_datetime)\n",
    "    \n",
    "    # Upload/publish the results and their result_steps to the Test Monitor database, linked to the correct product, via web service API calls\n",
    "    product = nitestmonitor.ProductRequestObject(part_number=None, name=\"NI 5678\", family=\"NI\")\n",
    "    await upload_test_records.upload(product, file_converter.results, file_converter.result_steps_dict, prefix)"
   ]
  },
  {
   "cell_type": "markdown",
   "id": "d9a0fa87",
   "metadata": {},
   "source": [
    "## Parse Data Set 5 and Upload Test Records"
   ]
  },
  {
   "cell_type": "code",
   "execution_count": null,
   "id": "314caa22",
   "metadata": {},
   "outputs": [],
   "source": [
    "# 481 Results Total\n",
    "if 5 in load_data_sets:\n",
    "    # The exported NI Family data files have the following metadata column names\n",
    "    keywords = [\"DataSet5\"]\n",
    "    property_names = [\"TestFWVersion\", \"TestRev\"]\n",
    "    input_names = [\"Input.Frequency (Hz)\", \"Input.FW Version\", \"Input.Software Revision\", \"Input.Testpoint\", \"Input.UUT Mode\"]\n",
    "    output_names = []\n",
    "    \n",
    "    # Parse the NI Family Excel file into array of results and dictionary of result_steps\n",
    "    prefix = \"Data Set 5 of 5 | \"\n",
    "    file_path = data_file_dir + \"5 - Exported Transmitter Data.xlsx\"\n",
    "    file_converter = FileConverter(prefix, file_path, results_sheet_name, steps_sheet_name, workspace, keywords, property_names, input_names, output_names, shift_datetime)\n",
    "    \n",
    "    # Upload/publish the results and their result_steps to the Test Monitor database, linked to the correct product, via web service API calls\n",
    "    product = nitestmonitor.ProductRequestObject(part_number=None, name=\"TX ABC123\", family=\"Transmitter\")\n",
    "    await upload_test_records.upload(product, file_converter.results, file_converter.result_steps_dict, prefix)"
   ]
  }
 ],
 "metadata": {
  "kernelspec": {
   "display_name": "Python 3",
   "language": "python",
   "name": "python3"
  },
  "language_info": {
   "codemirror_mode": {
    "name": "ipython",
    "version": 3
   },
   "file_extension": ".py",
   "mimetype": "text/x-python",
   "name": "python",
   "nbconvert_exporter": "python",
   "pygments_lexer": "ipython3",
   "version": "3.8.5"
  }
 },
 "nbformat": 4,
 "nbformat_minor": 5
}
