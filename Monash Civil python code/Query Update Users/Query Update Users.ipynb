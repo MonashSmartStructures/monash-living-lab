{
 "cells": [
  {
   "cell_type": "markdown",
   "id": "f43f31b1",
   "metadata": {
    "tags": [
     "parameters"
    ]
   },
   "source": [
    "# Query and Update Users\n",
    "\n",
    "Specifically, add an \"aaa\" prefix to the firstName property of certain users."
   ]
  },
  {
   "cell_type": "markdown",
   "id": "7c5d2559",
   "metadata": {},
   "source": [
    "## Import Python Modules"
   ]
  },
  {
   "cell_type": "code",
   "execution_count": 1,
   "id": "e4810365",
   "metadata": {},
   "outputs": [],
   "source": [
    "import os\n",
    "import requests\n",
    "import urllib3\n",
    "urllib3.disable_warnings(urllib3.exceptions.InsecureRequestWarning)"
   ]
  },
  {
   "cell_type": "markdown",
   "id": "b9f82aae",
   "metadata": {},
   "source": [
    "## Assign Authentication Parameters"
   ]
  },
  {
   "cell_type": "code",
   "execution_count": 2,
   "id": "920bd95f",
   "metadata": {},
   "outputs": [
    {
     "name": "stdout",
     "output_type": "stream",
     "text": [
      "https://localhost:443/\n",
      "AU2hWR8LfzeeszVg1R0ZviS_tlwmf8XjQF3JFGUkrG\n"
     ]
    }
   ],
   "source": [
    "host_url = \"https://localhost:443/\"\n",
    "host_url = os.getenv(\"SYSTEMLINK_HTTP_URI\") # available only in JupyterHub on SystemLink server\n",
    "api_key = os.getenv(\"SYSTEMLINK_API_KEY\")   # available only in JupyterHub on SystemLink server\n",
    "print(host_url)\n",
    "print(api_key)"
   ]
  },
  {
   "cell_type": "markdown",
   "id": "6517654c",
   "metadata": {},
   "source": [
    "## Define Web Service Command Syntax for Users Requests"
   ]
  },
  {
   "cell_type": "code",
   "execution_count": 3,
   "id": "1a70ae62",
   "metadata": {},
   "outputs": [],
   "source": [
    "class WebServices(object):\n",
    "\n",
    "    def __init__(self, host_url=\"\", session=None):\n",
    "        self.host_url = host_url\n",
    "        self.session = session if session != None else requests.Session()\n",
    "\n",
    "    def set_api_key(self, api_key):\n",
    "        self.headers = {'x-ni-api-key':api_key, 'Content-Type':'application/json'}\n",
    "        self.auth = \"\"\n",
    "        \n",
    "    def set_usr_pwd(self, username, password):\n",
    "        self.headers = \"\"\n",
    "        self.auth = (username, password)\n",
    "        \n",
    "    def get_route(self, url):\n",
    "        print(\"GET \" + self.host_url + url)\n",
    "        response = self.session.get(self.host_url+url, json={}, verify=False, headers=self.headers, auth=self.auth)\n",
    "        print(str(response))\n",
    "        return response\n",
    "    \n",
    "    def post_route(self, url, post_json):\n",
    "        print(\"POST \" + self.host_url + url)\n",
    "        response = self.session.post(self.host_url+url, json=post_json, verify=False, headers=self.headers, auth=self.auth)\n",
    "        print(str(response))\n",
    "        return response\n",
    "    \n",
    "    def put_route(self, url, put_json):\n",
    "        print(\"PUT \" + self.host_url + url)\n",
    "        response = self.session.put(self.host_url+url, json=put_json, verify=False, headers=self.headers, auth=self.auth)\n",
    "        print(str(response))\n",
    "        return response"
   ]
  },
  {
   "cell_type": "markdown",
   "id": "4181cf2b",
   "metadata": {},
   "source": [
    "## Define User Query and User Update Actions"
   ]
  },
  {
   "cell_type": "code",
   "execution_count": 4,
   "id": "09bff252",
   "metadata": {},
   "outputs": [],
   "source": [
    "def QueryUsers():\n",
    "    # Query Parameters\n",
    "    query_json = {'filter': 'id=\"b8482a4a-3ef6-4e37-8975-d6aad135dbb5\"'}\n",
    "    #query_json = {}\n",
    "    # Query Users\n",
    "    users = webServices.post_route(\"niuser/v1/users/query\", query_json)\n",
    "    user_dict = users.json()\n",
    "    return user_dict[\"users\"]\n",
    "\n",
    "def UpdateFirstNames(users):\n",
    "    for user in users:\n",
    "        user_id = user[\"id\"]\n",
    "        first_name = user[\"firstName\"]\n",
    "        if first_name[0:3] == \"aaa\":\n",
    "            first_name = first_name[3:]\n",
    "        else:\n",
    "            first_name = \"aaa\" + first_name\n",
    "        update_json = {\"firstName\": first_name}\n",
    "        print(\"-------------------------------------------------------------------------\")\n",
    "        print(\"updating user \" + user_id + \" to firstName = \" + first_name)\n",
    "        response = webServices.put_route(\"niuser/v1/users/\"+user_id, update_json)"
   ]
  },
  {
   "cell_type": "markdown",
   "id": "a2ff3550",
   "metadata": {},
   "source": [
    "## Load Server Connection Info, Run User Actions"
   ]
  },
  {
   "cell_type": "code",
   "execution_count": 5,
   "id": "b98b535e",
   "metadata": {},
   "outputs": [
    {
     "name": "stdout",
     "output_type": "stream",
     "text": [
      "POST https://bradt2-lt/niuser/v1/users/query\n",
      "<Response [200]>\n",
      "[{'acceptedToS': False, 'created': '2022-04-02T23:36:31.908Z', 'email': 'brad.turpin@ni.com', 'entitlements': {'entitled': 'no', 'entitlements': [], 'evaluation': {'expiresOn': None, 'used': False}, 'expiresOn': None}, 'firstName': 'Brad', 'id': 'b8482a4a-3ef6-4e37-8975-d6aad135dbb5', 'keywords': [], 'lastName': 'Turpin', 'login': 'S-1-5-21-592541541-3038525560-1254390659-134204', 'niuaId': 'S-1-5-21-592541541-3038525560-1254390659-134204', 'orgId': '891c595f-9121-45e1-8515-9d54783393f3', 'phone': '-', 'policies': [], 'properties': {}, 'status': 'active', 'updated': '2023-03-31T22:40:58.552Z'}]\n",
      "-------------------------------------------------------------------------\n",
      "updating user b8482a4a-3ef6-4e37-8975-d6aad135dbb5 to firstName = aaaBrad\n",
      "PUT https://bradt2-lt/niuser/v1/users/b8482a4a-3ef6-4e37-8975-d6aad135dbb5\n",
      "<Response [200]>\n"
     ]
    }
   ],
   "source": [
    "# Return WebServices object (set host_url)\n",
    "webServices = WebServices(host_url)\n",
    "\n",
    "# Define the connection credentials using an ApiKey or username/password\n",
    "webServices.set_api_key(api_key)\n",
    "#webServices.set_usr_pwd(\"admin\", \"mypassword\")\n",
    "\n",
    "# Query and Update Users\n",
    "users = QueryUsers()\n",
    "print(str(users))\n",
    "UpdateFirstNames(users)"
   ]
  }
 ],
 "metadata": {
  "kernelspec": {
   "display_name": "Python 3",
   "language": "python",
   "name": "python3"
  },
  "language_info": {
   "codemirror_mode": {
    "name": "ipython",
    "version": 3
   },
   "file_extension": ".py",
   "mimetype": "text/x-python",
   "name": "python",
   "nbconvert_exporter": "python",
   "pygments_lexer": "ipython3",
   "version": "3.8.5"
  }
 },
 "nbformat": 4,
 "nbformat_minor": 5
}
