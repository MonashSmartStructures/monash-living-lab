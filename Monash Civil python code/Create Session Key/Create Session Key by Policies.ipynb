{
 "cells": [
  {
   "cell_type": "markdown",
   "id": "16e70bf3",
   "metadata": {
    "tags": [
     "parameters"
    ]
   },
   "source": [
    "# Create Session Key by Referencing Policies\n",
    "\n",
    "Use a whitelisted ApiKey to create an expiring session key to enable temporary SystemLink authentication."
   ]
  },
  {
   "cell_type": "markdown",
   "id": "77c213cd",
   "metadata": {},
   "source": [
    "## Import Python Modules"
   ]
  },
  {
   "cell_type": "code",
   "execution_count": 1,
   "id": "cb47013a",
   "metadata": {},
   "outputs": [],
   "source": [
    "import os\n",
    "import requests\n",
    "import urllib3\n",
    "urllib3.disable_warnings(urllib3.exceptions.InsecureRequestWarning)"
   ]
  },
  {
   "cell_type": "markdown",
   "id": "0493df9a",
   "metadata": {},
   "source": [
    "## Define Web Service Command Syntax for Users Requests"
   ]
  },
  {
   "cell_type": "code",
   "execution_count": 2,
   "id": "c6d0c82b",
   "metadata": {},
   "outputs": [],
   "source": [
    "class WebServices(object):\n",
    "\n",
    "    def __init__(self, host_url=\"\", session=None):\n",
    "        self.host_url = host_url\n",
    "        self.session = session if session != None else requests.Session()\n",
    "\n",
    "    def set_api_key(self, api_key):\n",
    "        self.headers = {'x-ni-api-key':api_key, 'Content-Type':'application/json'}\n",
    "        self.auth = \"\"\n",
    "    \n",
    "    def post_route(self, url, post_json):\n",
    "        print(\"POST \" + self.host_url + url)\n",
    "        response = self.session.post(self.host_url+url, json=post_json, verify=False, headers=self.headers, auth=self.auth)\n",
    "        print(str(response))\n",
    "        return response"
   ]
  },
  {
   "cell_type": "markdown",
   "id": "f3dc20f7",
   "metadata": {},
   "source": [
    "## Define and Create Session Key"
   ]
  },
  {
   "cell_type": "code",
   "execution_count": 3,
   "id": "5985ad9a",
   "metadata": {},
   "outputs": [
    {
     "name": "stdout",
     "output_type": "stream",
     "text": [
      "POST http://localhost:12100/niauth/v1/session-keys\n",
      "<Response [200]>\n",
      "{'created': '2023-03-30T21:24:59.737Z', 'defaultWorkspace': None, 'deleted': False, 'enabled': True, 'expiry': '2023-03-30T21:26:59.737Z', 'id': '4be61637-1b23-4d7c-805a-667788ea9247', 'name': 'e8a17645-9260-4586-862f-575341a16e21', 'policies': [{'builtIn': True, 'created': '2021-08-24T17:31:09.941Z', 'deleted': False, 'id': '7d80bb61-8df6-499c-b1e4-3d89848f8633', 'name': 'Super User', 'properties': {}, 'statements': [{'actions': ['*'], 'description': '', 'resource': ['*'], 'workspace': '*'}], 'type': 'role', 'updated': '2021-08-24T17:31:09.941Z', 'userId': '1e774bea-f42a-4eff-9776-e19401a294fd'}], 'properties': {'temp': 'yes'}, 'updated': '2023-03-30T21:24:59.737Z', 'userId': 'b8482a4a-3ef6-4e37-8975-d6aad135dbb5', 'secret': 'bC94FtmKmIfR5Qtc21RPUF5zUNf3N8RtMm2euPrmqc', 'sessionKey': True}\n"
     ]
    }
   ],
   "source": [
    "# Manually set the connection credentials for whitelisted routes\n",
    "host_url = \"http://localhost:12100/\" # must bypass SystemLink Web Server (443), which refuses whitelisted requests\n",
    "api_key = \"7FEWVlmRpr-VhK_Pr237B1rDqp6HuaLsFIMd2NdSzn\" # must use whitelisted ApiKey\n",
    "\n",
    "# Return WebServiceRoutes object\n",
    "webServices = WebServices(host_url)\n",
    "\n",
    "# Define the connection credentials in the response header using the whitelisted ApiKey\n",
    "webServices.set_api_key(api_key)\n",
    "\n",
    "# Define the new Seesion Key\n",
    "session_key_json = {\n",
    "  \"orgId\": \"891c595f-9121-45e1-8515-9d54783393f3\",\n",
    "  \"userId\": \"b8482a4a-3ef6-4e37-8975-d6aad135dbb5\",\n",
    "  \"policyIds\": [\"94bdeb16-eeb9-42fd-bef0-12b963b36b46\",\"8f1be054-e0c7-4699-af74-bade4a203c57\",\"a256bd29-12ec-4cb0-b59e-19c03c47f3c6\",\"7d80bb61-8df6-499c-b1e4-3d89848f8633\"],\n",
    "  \"durationSeconds\": 120,\n",
    "  \"properties\": {\"temp\": \"yes\"}\n",
    "}\n",
    "\n",
    "# Run Web Service Route to create Session Key\n",
    "response = webServices.post_route(\"niauth/v1/session-keys\", session_key_json)\n",
    "print(str(response.json()))"
   ]
  }
 ],
 "metadata": {
  "kernelspec": {
   "display_name": "Python 3",
   "language": "python",
   "name": "python3"
  },
  "language_info": {
   "codemirror_mode": {
    "name": "ipython",
    "version": 3
   },
   "file_extension": ".py",
   "mimetype": "text/x-python",
   "name": "python",
   "nbconvert_exporter": "python",
   "pygments_lexer": "ipython3",
   "version": "3.8.5"
  }
 },
 "nbformat": 4,
 "nbformat_minor": 5
}
