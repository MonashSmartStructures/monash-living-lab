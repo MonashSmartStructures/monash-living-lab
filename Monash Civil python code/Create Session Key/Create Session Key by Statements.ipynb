{
 "cells": [
  {
   "cell_type": "markdown",
   "id": "332cd414",
   "metadata": {
    "tags": [
     "parameters"
    ]
   },
   "source": [
    "# Create Session Key by Passing Statements\n",
    "\n",
    "Use a whitelisted ApiKey to create an expiring session key to enable temporary SystemLink authentication."
   ]
  },
  {
   "cell_type": "markdown",
   "id": "00c83909",
   "metadata": {},
   "source": [
    "## Import Python Modules"
   ]
  },
  {
   "cell_type": "code",
   "execution_count": 1,
   "id": "d4ad591b",
   "metadata": {},
   "outputs": [],
   "source": [
    "import os\n",
    "import requests\n",
    "import urllib3\n",
    "urllib3.disable_warnings(urllib3.exceptions.InsecureRequestWarning)"
   ]
  },
  {
   "cell_type": "markdown",
   "id": "5213cd6e",
   "metadata": {},
   "source": [
    "## Define Web Service Command Syntax for Users Requests"
   ]
  },
  {
   "cell_type": "code",
   "execution_count": 2,
   "id": "e029aecb",
   "metadata": {},
   "outputs": [],
   "source": [
    "class WebServices(object):\n",
    "\n",
    "    def __init__(self, host_url=\"\", session=None):\n",
    "        self.host_url = host_url\n",
    "        self.session = session if session != None else requests.Session()\n",
    "\n",
    "    def set_api_key(self, api_key):\n",
    "        self.headers = {'x-ni-api-key':api_key, 'Content-Type':'application/json'}\n",
    "        self.auth = \"\"\n",
    "    \n",
    "    def post_route(self, url, post_json):\n",
    "        print(\"POST \" + self.host_url + url)\n",
    "        response = self.session.post(self.host_url+url, json=post_json, verify=False, headers=self.headers, auth=self.auth)\n",
    "        print(str(response))\n",
    "        return response"
   ]
  },
  {
   "cell_type": "markdown",
   "id": "f5d7fbed",
   "metadata": {},
   "source": [
    "## Define and Create Session Key"
   ]
  },
  {
   "cell_type": "code",
   "execution_count": 3,
   "id": "660c761a",
   "metadata": {},
   "outputs": [
    {
     "name": "stdout",
     "output_type": "stream",
     "text": [
      "POST http://localhost:12100/niauth/v1/session-keys\n",
      "<Response [200]>\n",
      "{'created': '2023-03-31T20:52:54.278Z', 'defaultWorkspace': None, 'deleted': False, 'enabled': True, 'expiry': '2023-03-31T20:54:54.278Z', 'id': '1a04d28e-78c3-400e-bddb-381cb1432341', 'name': 'c705e029-8e3f-48f1-9c26-e378b6eec423', 'policies': [{'builtIn': False, 'created': '2023-03-31T20:52:54.276Z', 'deleted': False, 'id': 'a0ceadab-680b-4b81-84d1-be3a44674647', 'name': '7cef5587-93df-43e5-9614-ff01250a63e4', 'properties': None, 'statements': [{'actions': ['file:Query', 'file:Download', 'file:Upload', 'file:Update'], 'description': 'File Maintainer', 'resource': ['*'], 'workspace': '*'}, {'actions': ['tag:QueryTagMetadata', 'tag:QueryTagValue', 'taghistory:Read', 'tag:CreateTagMetadata', 'taghistory:Create', 'tag:UpdateTagValue', 'tag:UpdateTagMetadata', 'tag:DeleteTagMetadata'], 'description': 'Tag Automated Agent', 'resource': ['*'], 'workspace': '*'}], 'type': 'internal', 'updated': '2023-03-31T20:52:54.276Z', 'userId': 'b8482a4a-3ef6-4e37-8975-d6aad135dbb5', 'sessionPolicy': True}], 'properties': {'temp': 'yes'}, 'updated': '2023-03-31T20:52:54.278Z', 'userId': 'b8482a4a-3ef6-4e37-8975-d6aad135dbb5', 'secret': 'GQvruUKidlNOHmnBMTKQey4WBJVAiyVw2H9-1JkuAb', 'sessionKey': True}\n"
     ]
    }
   ],
   "source": [
    "# Manually set the connection credentials for whitelisted routes\n",
    "host_url = \"http://localhost:12100/\" # must bypass SystemLink Web Server (443), which refuses whitelisted requests\n",
    "api_key = \"7FEWVlmRpr-VhK_Pr237B1rDqp6HuaLsFIMd2NdSzn\" # must use whitelisted ApiKey\n",
    "\n",
    "# Return WebServiceRoutes object (set host_url)\n",
    "webServices = WebServices(host_url)\n",
    "\n",
    "# Define the connection credentials in the response header using the whitelisted ApiKey\n",
    "webServices.set_api_key(api_key)\n",
    "\n",
    "# Define the new Seesion Key\n",
    "session_key_json = {\n",
    "  \"orgId\": \"891c595f-9121-45e1-8515-9d54783393f3\",\n",
    "  \"userId\": \"b8482a4a-3ef6-4e37-8975-d6aad135dbb5\",\n",
    "  \"policies\": [\n",
    "    {\n",
    "      \"statements\": [\n",
    "        {\n",
    "          \"actions\": [\n",
    "            \"file:Query\",\n",
    "            \"file:Download\",\n",
    "            \"file:Upload\",\n",
    "            \"file:Update\"\n",
    "          ],\n",
    "          \"description\": \"File Maintainer\",\n",
    "          \"resource\": [\"*\"],\n",
    "          \"workspace\": \"*\"\n",
    "        },\n",
    "        {\n",
    "          \"actions\": [\n",
    "            \"tag:QueryTagMetadata\",\n",
    "            \"tag:QueryTagValue\",\n",
    "            \"taghistory:Read\",\n",
    "            \"tag:CreateTagMetadata\",\n",
    "            \"taghistory:Create\",\n",
    "            \"tag:UpdateTagValue\",\n",
    "            \"tag:UpdateTagMetadata\",\n",
    "            \"tag:DeleteTagMetadata\"\n",
    "          ],\n",
    "          \"description\": \"Tag Automated Agent\",\n",
    "          \"resource\": [\"*\"],\n",
    "          \"workspace\": \"*\"\n",
    "        }\n",
    "      ]\n",
    "    }\n",
    "  ],\n",
    "  \"durationSeconds\": 120,\n",
    "  \"properties\": {\"temp\": \"yes\"}\n",
    "}\n",
    "\n",
    "# Run Web Service Route to create Session Key\n",
    "response = webServices.post_route(\"niauth/v1/session-keys\", session_key_json)\n",
    "print(str(response.json()))"
   ]
  }
 ],
 "metadata": {
  "kernelspec": {
   "display_name": "Python 3",
   "language": "python",
   "name": "python3"
  },
  "language_info": {
   "codemirror_mode": {
    "name": "ipython",
    "version": 3
   },
   "file_extension": ".py",
   "mimetype": "text/x-python",
   "name": "python",
   "nbconvert_exporter": "python",
   "pygments_lexer": "ipython3",
   "version": "3.8.5"
  }
 },
 "nbformat": 4,
 "nbformat_minor": 5
}
