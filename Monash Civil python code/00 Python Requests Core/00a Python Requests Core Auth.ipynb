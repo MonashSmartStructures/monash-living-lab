{
 "cells": [
  {
   "cell_type": "markdown",
   "id": "4fc12c0c",
   "metadata": {
    "tags": [
     "parameters"
    ]
   },
   "source": [
    "# Requests of Web Service Route\n",
    "\n",
    "How to run a native REST web service route of SystemLink using just the requests module, on this SystemLink Server"
   ]
  },
  {
   "cell_type": "markdown",
   "id": "cee80b46",
   "metadata": {},
   "source": [
    "## Import Python Modules"
   ]
  },
  {
   "cell_type": "code",
   "execution_count": 1,
   "id": "c2d3cf5e",
   "metadata": {},
   "outputs": [],
   "source": [
    "import os\n",
    "import requests\n",
    "import urllib3\n",
    "urllib3.disable_warnings(urllib3.exceptions.InsecureRequestWarning)"
   ]
  },
  {
   "cell_type": "markdown",
   "id": "e205b331",
   "metadata": {},
   "source": [
    "## Assign Authentication Parameters"
   ]
  },
  {
   "cell_type": "code",
   "execution_count": 2,
   "id": "5d04b3c0",
   "metadata": {},
   "outputs": [
    {
     "name": "stdout",
     "output_type": "stream",
     "text": [
      "https://bradt2-lt/\n",
      "kOFKMDA9MqyY_cN5D2aH5lpFBi_d39Ww_WAns7SCH9\n"
     ]
    }
   ],
   "source": [
    "host_url = \"https://localhost:443/\"\n",
    "host_url = os.getenv(\"SYSTEMLINK_HTTP_URI\") # computer JupyterHub is running on\n",
    "api_key = os.getenv(\"SYSTEMLINK_API_KEY\")   # account of the currently logged in user\n",
    "print(host_url)\n",
    "print(api_key)"
   ]
  },
  {
   "cell_type": "markdown",
   "id": "6573d2dd",
   "metadata": {},
   "source": [
    "## Define Web Service Command Syntax for Requests"
   ]
  },
  {
   "cell_type": "code",
   "execution_count": 3,
   "id": "963dd53d",
   "metadata": {},
   "outputs": [],
   "source": [
    "class WebServices(object):\n",
    "\n",
    "    def __init__(self, host_url=\"\", session=None):\n",
    "        self.host_url = host_url\n",
    "        self.session = session if session != None else requests.Session()\n",
    "\n",
    "    def set_api_key(self, api_key):\n",
    "        self.headers = {'x-ni-api-key':api_key, 'Content-Type':'application/json'}\n",
    "        self.auth = \"\"\n",
    "        \n",
    "    def set_usr_pwd(self, username, password):\n",
    "        self.headers = \"\"\n",
    "        self.auth = (username, password)\n",
    "        \n",
    "    def get_route(self, url):\n",
    "        print(\"GET \" + self.host_url + url)\n",
    "        response = self.session.get(self.host_url+url, json={}, verify=False, headers=self.headers, auth=self.auth)\n",
    "        print(str(response))\n",
    "        return response\n",
    "    \n",
    "    def post_route(self, url, post_json):\n",
    "        print(\"POST \" + self.host_url + url)\n",
    "        response = self.session.post(self.host_url+url, json=post_json, verify=False, headers=self.headers, auth=self.auth)\n",
    "        print(str(response))\n",
    "        return response\n",
    "\n",
    "    def put_route(self, url, put_json):\n",
    "        print(\"PUT \" + self.host_url + url)\n",
    "        response = self.session.put(self.host_url+url, json=put_json, verify=False, headers=self.headers, auth=self.auth)\n",
    "        print(str(response))\n",
    "        return response\n",
    "    \n",
    "    def patch_route(self, url, patch_json):\n",
    "        print(\"PATCH \" + self.host_url + url)\n",
    "        response = self.session.patch(self.host_url+url, json=patch_json, verify=False, headers=self.headers, auth=self.auth)\n",
    "        print(str(response))\n",
    "        return response\n",
    "\n",
    "    def delete_route(self, url, delete_json):\n",
    "        print(\"DELETE \" + self.host_url + url)\n",
    "        response = self.session.delete(self.host_url+url, json=delete_json, verify=False, headers=self.headers, auth=self.auth)\n",
    "        print(str(response))\n",
    "        return response"
   ]
  },
  {
   "cell_type": "markdown",
   "id": "67078986",
   "metadata": {},
   "source": [
    "## Load Server Connection Info, Run User Actions"
   ]
  },
  {
   "cell_type": "code",
   "execution_count": 4,
   "id": "6c3e129b",
   "metadata": {},
   "outputs": [
    {
     "name": "stdout",
     "output_type": "stream",
     "text": [
      "GET https://bradt2-lt/niuser/v1/workspaces\n",
      "<Response [200]>\n",
      "{'totalCount': 2, 'workspaces': [{'default': True, 'enabled': True, 'id': '48662d57-e2be-41d7-8865-af5100cd8c6b', 'name': 'Default'}, {'default': False, 'enabled': True, 'id': '93f869bd-f4df-4fb6-84e3-0499cae06a7c', 'name': 'foo'}]}\n"
     ]
    }
   ],
   "source": [
    "# Return WebServices object (set host_url)\n",
    "webServices = WebServices(host_url)\n",
    "\n",
    "# Define the connection credentials in the response header using an ApiKey or username/password\n",
    "webServices.set_api_key(api_key)\n",
    "#webServices.set_usr_pwd(\"admin\", \"mypassword\")\n",
    "\n",
    "# Run Web Service Route to return tag count\n",
    "#response = webServices.get_route(\"nitag/v2/tags-count\")\n",
    "response = webServices.get_route(\"niuser/v1/workspaces\")\n",
    "print(str(response.json()))"
   ]
  }
 ],
 "metadata": {
  "kernelspec": {
   "display_name": "Python 3",
   "language": "python",
   "name": "python3"
  },
  "language_info": {
   "codemirror_mode": {
    "name": "ipython",
    "version": 3
   },
   "file_extension": ".py",
   "mimetype": "text/x-python",
   "name": "python",
   "nbconvert_exporter": "python",
   "pygments_lexer": "ipython3",
   "version": "3.8.5"
  }
 },
 "nbformat": 4,
 "nbformat_minor": 5
}
