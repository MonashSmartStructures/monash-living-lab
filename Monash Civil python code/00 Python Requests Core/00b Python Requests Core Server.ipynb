{
 "cells": [
  {
   "cell_type": "markdown",
   "id": "91020925",
   "metadata": {
    "tags": [
     "parameters"
    ]
   },
   "source": [
    "# Requests of Web Service Route on external SystemLink Servers\n",
    "\n",
    "How to run a native REST web service route of SystemLink using just the requests module, connecting to demo.systemlink.io and test.systemlink.io"
   ]
  },
  {
   "cell_type": "markdown",
   "id": "7d8f4454",
   "metadata": {},
   "source": [
    "## Import Python Modules"
   ]
  },
  {
   "cell_type": "code",
   "execution_count": 1,
   "id": "c6121e28",
   "metadata": {},
   "outputs": [],
   "source": [
    "import os\n",
    "import requests\n",
    "import urllib3\n",
    "urllib3.disable_warnings(urllib3.exceptions.InsecureRequestWarning)"
   ]
  },
  {
   "cell_type": "markdown",
   "id": "e1cbe704",
   "metadata": {},
   "source": [
    "## Assign Authentication Parameters"
   ]
  },
  {
   "cell_type": "code",
   "execution_count": 2,
   "id": "3ab3a27e",
   "metadata": {},
   "outputs": [
    {
     "name": "stdout",
     "output_type": "stream",
     "text": [
      "https://demo.systemlink.io/\n",
      "lvadmin\n",
      "LabVIEW===\n"
     ]
    }
   ],
   "source": [
    "host_url = \"https://demo.systemlink.io/\"\n",
    "#host_url = \"https://test.systemlink.io/\"\n",
    "username = \"lvadmin\"\n",
    "password = \"LabVIEW===\"\n",
    "print(host_url)\n",
    "print(username)\n",
    "print(password)"
   ]
  },
  {
   "cell_type": "markdown",
   "id": "a385f7be",
   "metadata": {},
   "source": [
    "## Define Web Service Command Syntax for Requests"
   ]
  },
  {
   "cell_type": "code",
   "execution_count": 3,
   "id": "2ac238fc",
   "metadata": {},
   "outputs": [],
   "source": [
    "class WebServices(object):\n",
    "\n",
    "    def __init__(self, host_url=\"\", session=None):\n",
    "        self.host_url = host_url\n",
    "        self.session = session if session != None else requests.Session()\n",
    "\n",
    "    def set_api_key(self, api_key):\n",
    "        self.headers = {'x-ni-api-key':api_key, 'Content-Type':'application/json'}\n",
    "        self.auth = \"\"\n",
    "        \n",
    "    def set_usr_pwd(self, username, password):\n",
    "        self.headers = \"\"\n",
    "        self.auth = (username, password)\n",
    "        \n",
    "    def get_route(self, url):\n",
    "        print(\"GET \" + self.host_url + url)\n",
    "        response = self.session.get(self.host_url+url, json={}, verify=False, headers=self.headers, auth=self.auth)\n",
    "        print(str(response))\n",
    "        return response\n",
    "    \n",
    "    def post_route(self, url, post_json):\n",
    "        print(\"POST \" + self.host_url + url)\n",
    "        response = self.session.post(self.host_url+url, json=post_json, verify=False, headers=self.headers, auth=self.auth)\n",
    "        print(str(response))\n",
    "        return response\n",
    "\n",
    "    def put_route(self, url, put_json):\n",
    "        print(\"PUT \" + self.host_url + url)\n",
    "        response = self.session.put(self.host_url+url, json=put_json, verify=False, headers=self.headers, auth=self.auth)\n",
    "        print(str(response))\n",
    "        return response\n",
    "    \n",
    "    def patch_route(self, url, patch_json):\n",
    "        print(\"PATCH \" + self.host_url + url)\n",
    "        response = self.session.patch(self.host_url+url, json=patch_json, verify=False, headers=self.headers, auth=self.auth)\n",
    "        print(str(response))\n",
    "        return response\n",
    "\n",
    "    def delete_route(self, url, delete_json):\n",
    "        print(\"DELETE \" + self.host_url + url)\n",
    "        response = self.session.delete(self.host_url+url, json=delete_json, verify=False, headers=self.headers, auth=self.auth)\n",
    "        print(str(response))\n",
    "        return response"
   ]
  },
  {
   "cell_type": "markdown",
   "id": "545af410",
   "metadata": {},
   "source": [
    "## Load Server Connection Info, Run User Actions"
   ]
  },
  {
   "cell_type": "code",
   "execution_count": 4,
   "id": "a4dac482",
   "metadata": {},
   "outputs": [
    {
     "name": "stdout",
     "output_type": "stream",
     "text": [
      "GET https://demo.systemlink.io/nitag/v2/tags-count\n",
      "<Response [200]>\n",
      "2395\n"
     ]
    }
   ],
   "source": [
    "# Return WebServices object (set host_url)\n",
    "webServices = WebServices(host_url)\n",
    "\n",
    "# Define the connection credentials in the response header using an ApiKey or username/password\n",
    "#webServices.set_api_key(api_key)\n",
    "webServices.set_usr_pwd(username, password)\n",
    "\n",
    "# Run Web Service Route to return tag count\n",
    "response = webServices.get_route(\"nitag/v2/tags-count\")\n",
    "#response = webServices.get_route(\"niuser/v1/workspaces\")\n",
    "print(str(response.json()))"
   ]
  }
 ],
 "metadata": {
  "kernelspec": {
   "display_name": "Python 3",
   "language": "python",
   "name": "python3"
  },
  "language_info": {
   "codemirror_mode": {
    "name": "ipython",
    "version": 3
   },
   "file_extension": ".py",
   "mimetype": "text/x-python",
   "name": "python",
   "nbconvert_exporter": "python",
   "pygments_lexer": "ipython3",
   "version": "3.8.5"
  }
 },
 "nbformat": 4,
 "nbformat_minor": 5
}
