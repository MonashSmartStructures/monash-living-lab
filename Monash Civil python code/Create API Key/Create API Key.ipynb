{
 "cells": [
  {
   "cell_type": "markdown",
   "id": "ae705e2f",
   "metadata": {
    "tags": [
     "parameters"
    ]
   },
   "source": [
    "# Create API Key\n",
    "\n",
    "Programmatically create a new API Key with permissions referenced from one or more Policies."
   ]
  },
  {
   "cell_type": "markdown",
   "id": "7d63830d",
   "metadata": {},
   "source": [
    "## Import Python Modules"
   ]
  },
  {
   "cell_type": "code",
   "execution_count": 1,
   "id": "29d08965",
   "metadata": {},
   "outputs": [],
   "source": [
    "import os\n",
    "import requests\n",
    "import urllib3\n",
    "urllib3.disable_warnings(urllib3.exceptions.InsecureRequestWarning)"
   ]
  },
  {
   "cell_type": "markdown",
   "id": "8d78b45a",
   "metadata": {},
   "source": [
    "## Assign Authentication Parameters"
   ]
  },
  {
   "cell_type": "code",
   "execution_count": 2,
   "id": "75fc6556",
   "metadata": {},
   "outputs": [
    {
     "name": "stdout",
     "output_type": "stream",
     "text": [
      "https://bradt2-lt/\n",
      "AU2hWR8LfzeeszVg1R0ZviS_tlwmf8XjQF3JFGUkrG\n"
     ]
    }
   ],
   "source": [
    "host_url = \"https://localhost:443/\"\n",
    "host_url = os.getenv(\"SYSTEMLINK_HTTP_URI\") # available only in JupyterHub on SystemLink server\n",
    "api_key = os.getenv(\"SYSTEMLINK_API_KEY\")   # available only in JupyterHub on SystemLink server\n",
    "print(host_url)\n",
    "print(api_key)"
   ]
  },
  {
   "cell_type": "markdown",
   "id": "2f32830a",
   "metadata": {},
   "source": [
    "## Define Web Service Command Syntax for Requests"
   ]
  },
  {
   "cell_type": "code",
   "execution_count": 3,
   "id": "9ee2465b",
   "metadata": {},
   "outputs": [],
   "source": [
    "class WebServices(object):\n",
    "\n",
    "    def __init__(self, host_url=\"\", session=None):\n",
    "        self.host_url = host_url\n",
    "        self.session = session if session != None else requests.Session()\n",
    "\n",
    "    def set_api_key(self, api_key):\n",
    "        self.headers = {'x-ni-api-key':api_key, 'Content-Type':'application/json'}\n",
    "        self.auth = \"\"\n",
    "        \n",
    "    def set_usr_pwd(self, username, password):\n",
    "        self.headers = \"\"\n",
    "        self.auth = (username, password)\n",
    "    \n",
    "    def post_route(self, url, post_json):\n",
    "        print(\"POST \" + self.host_url + url)\n",
    "        response = self.session.post(self.host_url+url, json=post_json, verify=False, headers=self.headers, auth=self.auth)\n",
    "        print(str(response))\n",
    "        return response"
   ]
  },
  {
   "cell_type": "markdown",
   "id": "668e0ac0",
   "metadata": {},
   "source": [
    "## Define and Create New API Key"
   ]
  },
  {
   "cell_type": "code",
   "execution_count": 4,
   "id": "2cd11147",
   "metadata": {},
   "outputs": [
    {
     "name": "stdout",
     "output_type": "stream",
     "text": [
      "POST https://bradt2-lt/niauth/v1/keys\n",
      "<Response [200]>\n",
      "{'created': '2023-03-31T23:05:54.117Z', 'defaultWorkspace': None, 'deleted': False, 'enabled': True, 'expiry': '9999-12-31T23:59:59Z', 'id': '6e5c4d4d-058f-4a90-848f-d224c6b1f9bd', 'name': 'Super User Access Notebook', 'policies': [{'builtIn': True, 'created': '2021-08-24T17:31:09.941Z', 'deleted': False, 'id': '7d80bb61-8df6-499c-b1e4-3d89848f8633', 'name': 'Super User', 'properties': {}, 'statements': [{'actions': ['*'], 'description': '', 'resource': ['*'], 'workspace': '*'}], 'type': 'role', 'updated': '2021-08-24T17:31:09.941Z', 'userId': '1e774bea-f42a-4eff-9776-e19401a294fd'}], 'properties': {'ApiKeyType': 'programmatic'}, 'updated': '2023-03-31T23:05:54.117Z', 'userId': '1e774bea-f42a-4eff-9776-e19401a294fd', 'secret': 'CTyQeRUsn9uaMTJ05LkyuVyNv7XWcCvdO4n3lwBcrs'}\n"
     ]
    }
   ],
   "source": [
    "# Return WebServices object\n",
    "webServices = WebServices(host_url)\n",
    "\n",
    "# Define the connection credentials in the response header using an ApiKey or username/password\n",
    "webServices.set_api_key(api_key)\n",
    "#webServices.set_usr_pwd(\"admin\", \"mypassword\")\n",
    "\n",
    "# Define the new API Key\n",
    "api_key_json = {\n",
    "  \"name\": \"Super User Access Notebook\",\n",
    "  \"policyIds\": [\"7d80bb61-8df6-499c-b1e4-3d89848f8633\"],\n",
    "  \"properties\": {\"ApiKeyType\": \"programmatic\"}\n",
    "}\n",
    "\n",
    "# Run Web Service Route to create API Key\n",
    "response = webServices.post_route(\"niauth/v1/keys\", api_key_json)\n",
    "print(str(response.json()))"
   ]
  }
 ],
 "metadata": {
  "kernelspec": {
   "display_name": "Python 3",
   "language": "python",
   "name": "python3"
  },
  "language_info": {
   "codemirror_mode": {
    "name": "ipython",
    "version": 3
   },
   "file_extension": ".py",
   "mimetype": "text/x-python",
   "name": "python",
   "nbconvert_exporter": "python",
   "pygments_lexer": "ipython3",
   "version": "3.8.5"
  }
 },
 "nbformat": 4,
 "nbformat_minor": 5
}
